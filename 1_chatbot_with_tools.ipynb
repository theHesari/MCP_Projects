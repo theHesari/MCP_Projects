{
 "cells": [
  {
   "cell_type": "markdown",
   "id": "32a62c58",
   "metadata": {},
   "source": [
    "### Install and import Libraries"
   ]
  },
  {
   "cell_type": "code",
   "execution_count": null,
   "id": "a1b3d690",
   "metadata": {
    "vscode": {
     "languageId": "plaintext"
    }
   },
   "outputs": [],
   "source": [
    "! pip install arxiv python-dotenv typing openai mcp -q"
   ]
  },
  {
   "cell_type": "code",
   "execution_count": null,
   "id": "5d57d870",
   "metadata": {
    "vscode": {
     "languageId": "plaintext"
    }
   },
   "outputs": [],
   "source": [
    "import arxiv\n",
    "import json\n",
    "import os\n",
    "import dotenv\n",
    "from typing import List\n",
    "from openai import OpenAI\n",
    "from dotenv import load_dotenv\n",
    "load_dotenv()\n",
    "\n"
   ]
  },
  {
   "cell_type": "markdown",
   "id": "0f177f19",
   "metadata": {},
   "source": [
    "### Tool Functions"
   ]
  },
  {
   "cell_type": "code",
   "execution_count": null,
   "id": "24249a1c",
   "metadata": {
    "vscode": {
     "languageId": "plaintext"
    }
   },
   "outputs": [],
   "source": [
    "PAPRER_DIR = \"papers\""
   ]
  },
  {
   "cell_type": "code",
   "execution_count": null,
   "id": "b490cb9a",
   "metadata": {
    "vscode": {
     "languageId": "plaintext"
    }
   },
   "outputs": [],
   "source": [
    "def search_papers(topic: str, max_results: int = 5) -> List[dict]:\n",
    "    \"\"\"\n",
    "    Search for papers on arxiv based on topic and number of results and store the results.\n",
    "\n",
    "    Args:\n",
    "        topic: str : The topic to search for\n",
    "        max_results: int : Maximum number of results to retrieve (default: 5)\n",
    "    Returns:\n",
    "        List of paper IDs found in the search\n",
    "    \"\"\"\n",
    "    # Use arxiv to search for papers\n",
    "    client = arxiv.Client()\n",
    "\n",
    "    # Search for papers\n",
    "    search = arxiv.Search(\n",
    "        query=topic,\n",
    "        max_results=max_results,\n",
    "        sort_by=arxiv.SortCriterion.SubmittedDate\n",
    "    )\n",
    "\n",
    "    papers = client.results(search)\n",
    "\n",
    "    # Make directory for this topic\n",
    "    path = os.path.join(PAPRER_DIR, topic.lower().replace(' ', '_'))\n",
    "    os.makedirs(path, exist_ok=True)\n",
    "\n",
    "    file_path = os.path.join(path, \"papers_info.json\")\n",
    "\n",
    "    # Try to load existing papers info\n",
    "    try:\n",
    "        with open(file_path, \"r\") as json_file:\n",
    "            papers_info = json.load(json_file)\n",
    "    except (FileNotFoundError, json.JSONDecodeError):\n",
    "        papers_info = {}\n",
    "\n",
    "    paper_ids = []\n",
    "    for paper in papers:\n",
    "        paper_ids.append(paper.get_short_id())\n",
    "        paper_info = {\n",
    "            'title': paper.title,\n",
    "            'authors': [author.name for author in paper.authors],\n",
    "            'summary': paper.summary,\n",
    "            'pdf_url': paper.pdf_url,\n",
    "            'published': str(paper.published.date())\n",
    "        }\n",
    "        papers_info[paper.get_short_id()] = paper_info\n",
    "    \n",
    "    # Save papers info\n",
    "    with open(file_path, \"w\") as json_file:\n",
    "        json.dump(papers_info, json_file, indent=2)\n",
    "\n",
    "    print(f\"Results are saved in: {file_path}\")\n",
    "    \n",
    "    return paper_ids\n",
    "\n",
    "search_papers(\"computers\")"
   ]
  },
  {
   "cell_type": "code",
   "execution_count": null,
   "id": "cded05b4",
   "metadata": {
    "vscode": {
     "languageId": "plaintext"
    }
   },
   "outputs": [],
   "source": [
    "def extract_info(paper_id: str) -> str:\n",
    "    \"\"\"\n",
    "    Extract information from paper based on paper id\n",
    "\n",
    "    Args:\n",
    "        paper_id: str : The paper id to extract information from\n",
    "    Returns:\n",
    "        str : The information extracted from the paper\n",
    "    \"\"\"\n",
    "    \n",
    "    for item in os.listdir(PAPRER_DIR):\n",
    "        item_path = os.path.join(PAPRER_DIR, item)\n",
    "        if os.path.isdir(item_path):\n",
    "            file_path = os.path.join(item_path, 'papers_info.json')\n",
    "            if os.path.isfile(file_path):\n",
    "                try:\n",
    "                    with open(file_path, \"r\") as json_file:\n",
    "                        papers_info = json.load(json_file)\n",
    "                        if paper_id in papers_info:\n",
    "                            return json.dumps(papers_info[paper_id], indent=2)\n",
    "                except (FileNotFoundError, json.JSONDecodeError) as e:\n",
    "                    print(f\"Error reading {file_path}: {str(e)}\")\n",
    "                    continue\n",
    "    return f\"There's no saved information related to paper {paper_id}.\"\n",
    "\n",
    "extract_info('2505.17021v1')"
   ]
  },
  {
   "cell_type": "markdown",
   "id": "db6bb310",
   "metadata": {},
   "source": [
    "### Tool Schema"
   ]
  },
  {
   "cell_type": "code",
   "execution_count": null,
   "id": "7fcf773c",
   "metadata": {
    "vscode": {
     "languageId": "plaintext"
    }
   },
   "outputs": [],
   "source": [
    "tools = [\n",
    "    {\n",
    "        \"name\": \"search_papers\",\n",
    "        \"description\": \"Search for papers on arxiv based on topic and number of results\",\n",
    "        \"input_schema\": {\n",
    "            \"type\": \"object\",\n",
    "            \"properties\":{\n",
    "                \"topic\": {\n",
    "                    \"type\": \"string\",\n",
    "                    \"description\": \"The topic to search for\"\n",
    "                },\n",
    "                \"max_results\": {\n",
    "                    \"type\": \"integer\",\n",
    "                    \"description\": \"Maximum number of results to retrieve (default: 5)\"\n",
    "                }\n",
    "            },\n",
    "            \"required\":[\"topic\"]\n",
    "        }\n",
    "    },\n",
    "    {\n",
    "        \"name\":\"extract_info\",\n",
    "        \"description\":\"Extract information from paper based on paper id\",\n",
    "        \"input_schema\":{\n",
    "            \"type\":\"object\",\n",
    "            \"properties\":{\n",
    "                \"paper_id\":{\n",
    "                    \"type\":\"string\",\n",
    "                    \"description\":\"The paper id to extract information from\"\n",
    "                }\n",
    "            },\n",
    "            \"required\":[\"paper_id\"]\n",
    "        }\n",
    "    }\n",
    "]"
   ]
  },
  {
   "cell_type": "markdown",
   "id": "e570da4f",
   "metadata": {},
   "source": [
    "### Tool Mapping"
   ]
  },
  {
   "cell_type": "code",
   "execution_count": null,
   "id": "f8f3d6e6",
   "metadata": {
    "vscode": {
     "languageId": "plaintext"
    }
   },
   "outputs": [],
   "source": [
    "mapping_tool_function = {\n",
    "    \"search_papers\":search_papers,\n",
    "    \"extract_info\":extract_info\n",
    "}\n",
    "\n",
    "def execute_tool(tool_name: str, tool_args: dict) -> str:\n",
    "    # Parse the JSON string if tool_args is a string\n",
    "    if isinstance(tool_args, str):\n",
    "        try:\n",
    "            tool_args = json.loads(tool_args)\n",
    "        except json.JSONDecodeError:\n",
    "            return \"Error: Invalid JSON arguments provided\"\n",
    "    \n",
    "    try:\n",
    "        result = mapping_tool_function[tool_name](**tool_args)\n",
    "    except Exception as e:\n",
    "        return f\"Error executing tool: {str(e)}\"\n",
    "    \n",
    "    if result is None:\n",
    "        result = \"The operation completed but didn't return any results.\"\n",
    "    elif isinstance(result, list):\n",
    "        result = ', '.join(result)\n",
    "    elif isinstance(result, dict):\n",
    "        result = json.dumps(result, indent=2)\n",
    "    else:\n",
    "        result = str(result)\n",
    "    return result"
   ]
  },
  {
   "cell_type": "code",
   "execution_count": null,
   "id": "5ee9654d",
   "metadata": {
    "vscode": {
     "languageId": "plaintext"
    }
   },
   "outputs": [],
   "source": [
    "execute_tool(\"search_papers\", {\"topic\": \"computers\"})"
   ]
  },
  {
   "cell_type": "markdown",
   "id": "b612f21d",
   "metadata": {},
   "source": [
    "### Chatbot"
   ]
  },
  {
   "cell_type": "code",
   "execution_count": null,
   "id": "d2c6e4b5",
   "metadata": {
    "vscode": {
     "languageId": "plaintext"
    }
   },
   "outputs": [],
   "source": [
    "client = OpenAI(api_key=os.getenv(\"AVALAI_API_KEY\"), base_url=\"https://api.avalai.ir/v1\")"
   ]
  },
  {
   "cell_type": "markdown",
   "id": "a70d35f0",
   "metadata": {},
   "source": [
    "### Query Processing"
   ]
  },
  {
   "cell_type": "code",
   "execution_count": null,
   "id": "85469725",
   "metadata": {
    "vscode": {
     "languageId": "plaintext"
    }
   },
   "outputs": [],
   "source": [
    "def process_query(query):\n",
    "    # Convert tools to OpenAI format if needed\n",
    "    openai_tools = []\n",
    "    for tool in tools:\n",
    "        openai_tools.append({\n",
    "            \"type\": \"function\",\n",
    "            \"function\": {\n",
    "                \"name\": tool[\"name\"],\n",
    "                \"description\": tool.get(\"description\", \"\"),\n",
    "                \"parameters\": tool[\"input_schema\"]\n",
    "            }\n",
    "        })\n",
    "    \n",
    "    messages = [{'role': 'user', 'content': query}]\n",
    "    \n",
    "    response = client.chat.completions.create(\n",
    "        model='deepseek-chat',  # or your specific DeepSeek model\n",
    "        max_tokens=2024,\n",
    "        tools=openai_tools,\n",
    "        messages=messages\n",
    "    )\n",
    "    \n",
    "    process_query = True\n",
    "    while process_query:\n",
    "        assistant_message = response.choices[0].message\n",
    "        assistant_content = assistant_message.content\n",
    "        tool_calls = assistant_message.tool_calls\n",
    "\n",
    "        if tool_calls:\n",
    "            # Handle tool calls\n",
    "            messages.append({\n",
    "                \"role\": \"assistant\",\n",
    "                \"content\": assistant_content,\n",
    "                \"tool_calls\": tool_calls\n",
    "            })\n",
    "            \n",
    "            for tool_call in tool_calls:\n",
    "                tool_id = tool_call.id\n",
    "                tool_name = tool_call.function.name\n",
    "                tool_args = tool_call.function.arguments\n",
    "                \n",
    "                print(f\"Calling tool {tool_name} with args {tool_args}\")\n",
    "                result = execute_tool(tool_name, tool_args)\n",
    "                \n",
    "                messages.append({\n",
    "                    \"role\": \"tool\",\n",
    "                    \"content\": str(result),\n",
    "                    \"tool_call_id\": tool_id\n",
    "                })\n",
    "            \n",
    "            # Get new response with tool results\n",
    "            response = client.chat.completions.create(\n",
    "                model='deepseek-chat',\n",
    "                max_tokens=2024,\n",
    "                tools=openai_tools,\n",
    "                messages=messages\n",
    "            )\n",
    "        else:\n",
    "            # Handle text response\n",
    "            if assistant_content:\n",
    "                print(assistant_content)\n",
    "                process_query = False\n",
    "            else:\n",
    "                print(\"No content received from the model\")\n",
    "                process_query = False"
   ]
  },
  {
   "cell_type": "markdown",
   "id": "35e1b477",
   "metadata": {},
   "source": [
    "### Chat Loop"
   ]
  },
  {
   "cell_type": "code",
   "execution_count": null,
   "id": "a1a88aa7",
   "metadata": {
    "vscode": {
     "languageId": "plaintext"
    }
   },
   "outputs": [],
   "source": [
    "def chat_loop():\n",
    "    print(\"Type your queries or 'quit' to exit.\")\n",
    "    while True:\n",
    "        try:\n",
    "            query = input(\"\\nQuery: \").strip()\n",
    "            if query.lower() == 'quit':\n",
    "                break\n",
    "    \n",
    "            process_query(query)\n",
    "            print(\"\\n\")\n",
    "        except Exception as e:\n",
    "            print(f\"\\nError: {str(e)}\")"
   ]
  },
  {
   "cell_type": "code",
   "execution_count": null,
   "id": "d6443dad",
   "metadata": {
    "vscode": {
     "languageId": "plaintext"
    }
   },
   "outputs": [],
   "source": [
    "chat_loop()"
   ]
  }
 ],
 "metadata": {
  "language_info": {
   "name": "python"
  }
 },
 "nbformat": 4,
 "nbformat_minor": 5
}
